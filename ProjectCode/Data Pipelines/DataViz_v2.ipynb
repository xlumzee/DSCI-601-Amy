{
 "cells": [
  {
   "cell_type": "markdown",
   "metadata": {},
   "source": [
    "## Data Loading and Inital Setup"
   ]
  },
  {
   "cell_type": "code",
   "execution_count": 1,
   "metadata": {},
   "outputs": [
    {
     "name": "stderr",
     "output_type": "stream",
     "text": [
      "/home/amy/.local/lib/python3.10/site-packages/matplotlib/projections/__init__.py:63: UserWarning: Unable to import Axes3D. This may be due to multiple versions of Matplotlib being installed (e.g. as a system package and as a pip package). As a result, the 3D projection is not available.\n",
      "  warnings.warn(\"Unable to import Axes3D. This may be due to multiple versions of \"\n"
     ]
    }
   ],
   "source": [
    "import pandas as pd\n",
    "import numpy as np\n",
    "import matplotlib.pyplot as plt\n",
    "import seaborn as sns\n",
    "from statsmodels.tsa.seasonal import seasonal_decompose\n"
   ]
  },
  {
   "cell_type": "markdown",
   "metadata": {},
   "source": [
    "### Data inital prep functions"
   ]
  },
  {
   "cell_type": "code",
   "execution_count": null,
   "metadata": {},
   "outputs": [],
   "source": [
    "def load_data(filepath):\n",
    "    data = pd.read_csv(filepath)\n",
    "    data['date'] = pd.to_datetime(data['date'])\n",
    "    return data\n",
    "\n",
    "def preprocess_data(df):\n",
    "    pd.options.display.float_format = '{:,.2f}'.format\n",
    "    return df\n",
    "\n",
    "def data_summary(df):\n",
    "    summ = pd.DataFrame(df.dtypes, columns=['Data Type'])\n",
    "    summ['Missing #'] = df.isnull().sum()\n",
    "    summ['Missing %'] = (df.isnull().sum() / len(df)) * 100\n",
    "    summ['Unique Values'] = df.nunique()\n",
    "    \n",
    "    desc = df.describe().transpose()\n",
    "    summ = summ.join(desc[['min', 'max', 'mean', 'std']])\n",
    "    \n",
    "    return summ"
   ]
  },
  {
   "cell_type": "markdown",
   "metadata": {},
   "source": [
    "### Data Visualization functions"
   ]
  },
  {
   "cell_type": "code",
   "execution_count": null,
   "metadata": {},
   "outputs": [],
   "source": [
    "def plot_histograms(df, columns, bins=50):\n",
    "    \"\"\"\n",
    "    Plot histograms for specified columns in the DataFrame.\n",
    "\n",
    "    Args:\n",
    "        df (DataFrame): Pandas DataFrame containing the data.\n",
    "        columns (list): List of column names to plot histograms for.\n",
    "        bins (int): Number of bins to use for the histograms.\n",
    "\n",
    "    Returns:\n",
    "        None: Displays the histogram plots.\n",
    "    \"\"\"\n",
    "    num_plots = len(columns)\n",
    "    fig, axes = plt.subplots(nrows=(num_plots // 2 + num_plots % 2), ncols=2, figsize=(12, num_plots * 2))\n",
    "    axes = axes.flatten()\n",
    "    for idx, col in enumerate(columns):\n",
    "        sns.histplot(df[col], bins=bins, ax=axes[idx], color=np.random.rand(3,))\n",
    "        axes[idx].set_title(f'Histogram of {col}')\n",
    "    plt.tight_layout()\n",
    "    plt.show()\n",
    "\n",
    "def correlation_analysis(df):\n",
    "    \"\"\"\n",
    "    Display a heatmap of the correlation matrix for the DataFrame.\n",
    "\n",
    "    Args:\n",
    "        df (DataFrame): Pandas DataFrame containing the data.\n",
    "\n",
    "    Returns:\n",
    "        None: Displays the heatmap of the correlation matrix.\n",
    "    \"\"\"\n",
    "    correlation_matrix = df.corr()\n",
    "    plt.figure(figsize=(10, 8))\n",
    "    sns.heatmap(correlation_matrix, annot=True, fmt=\".2f\", cmap='coolwarm')\n",
    "    plt.title('Correlation Matrix')\n",
    "    plt.show()\n",
    "\n",
    "def plot_moving_averages(df, metrics, ma_days):\n",
    "    \"\"\"\n",
    "    Plot moving averages for specified metrics over defined days.\n",
    "\n",
    "    Args:\n",
    "        df (DataFrame): Pandas DataFrame containing the data.\n",
    "        metrics (list): List of metric columns to calculate moving averages for.\n",
    "        ma_days (list): List of day intervals (integers) for calculating moving averages.\n",
    "\n",
    "    Returns:\n",
    "        None: Displays the plots of the metrics with their moving averages.\n",
    "    \"\"\"\n",
    "    fig, axes = plt.subplots(nrows=2, ncols=2, figsize=(15, 10))\n",
    "    axes = axes.flatten()\n",
    "    for i, metric in enumerate(metrics):\n",
    "        for ma in ma_days:\n",
    "            df[f'MA for {ma} days {metric}'] = df[metric].rolling(window=ma).mean()\n",
    "        df[[metric] + [f'MA for {ma} days {metric}' for ma in ma_days]].plot(ax=axes[i])\n",
    "        axes[i].set_title(f'{metric.upper()} Moving Averages')\n",
    "    plt.tight_layout()\n",
    "    plt.show()\n",
    "\n",
    "def plot_scatter(df, x, y, hue=None, add_line=False):\n",
    "    \"\"\"\n",
    "    Plot a scatter plot for two variables and optionally add a regression line.\n",
    "\n",
    "    Args:\n",
    "        df (DataFrame): Pandas DataFrame containing the data.\n",
    "        x (str): Column name for the x-axis.\n",
    "        y (str): Column name for the y-axis.\n",
    "        hue (str, optional): Column name to color data points by.\n",
    "        add_line (bool, optional): Whether to add a regression line.\n",
    "\n",
    "    Returns:\n",
    "        None: Displays the scatter plot.\n",
    "    \"\"\"\n",
    "    plt.figure(figsize=(10, 6))\n",
    "    sns.scatterplot(data=df, x=x, y=y, hue=hue)\n",
    "    plt.title(f'Relationship between {x} and {y}')\n",
    "    plt.xlabel(x)\n",
    "    plt.ylabel(y)\n",
    "    \n",
    "    if add_line:\n",
    "        sns.regplot(data=df, x=x, y=y, scatter=False, color='red')\n",
    "    \n",
    "    plt.show()\n",
    "\n",
    "def plot_boxplots(df, columns):\n",
    "    num_plots = len(columns)\n",
    "    fig, axes = plt.subplots(nrows=(num_plots // 2 + num_plots % 2), ncols=2, figsize=(12, num_plots * 2))\n",
    "    axes = axes.flatten()\n",
    "    for idx, col in enumerate(columns):\n",
    "        sns.boxplot(x=df[col], ax=axes[idx])\n",
    "        axes[idx].set_title(f'Box Plot of {col}')\n",
    "    plt.tight_layout()\n",
    "    plt.show()\n",
    "\n",
    "def plot_pairplot(df, hue=None):\n",
    "    sns.pairplot(df, hue=hue)\n",
    "    plt.suptitle('Pair Plot of DataFrame Variables', y=1.02)\n",
    "    plt.show()\n",
    "\n"
   ]
  },
  {
   "cell_type": "code",
   "execution_count": null,
   "metadata": {},
   "outputs": [],
   "source": []
  }
 ],
 "metadata": {
  "kernelspec": {
   "display_name": "Python 3",
   "language": "python",
   "name": "python3"
  },
  "language_info": {
   "codemirror_mode": {
    "name": "ipython",
    "version": 3
   },
   "file_extension": ".py",
   "mimetype": "text/x-python",
   "name": "python",
   "nbconvert_exporter": "python",
   "pygments_lexer": "ipython3",
   "version": "3.10.12"
  }
 },
 "nbformat": 4,
 "nbformat_minor": 2
}
