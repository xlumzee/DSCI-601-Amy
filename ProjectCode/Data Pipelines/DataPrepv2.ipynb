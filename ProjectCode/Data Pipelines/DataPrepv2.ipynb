{
 "cells": [
  {
   "cell_type": "code",
   "execution_count": 1,
   "metadata": {},
   "outputs": [
    {
     "name": "stderr",
     "output_type": "stream",
     "text": [
      "/home/amy/.local/lib/python3.10/site-packages/matplotlib/projections/__init__.py:63: UserWarning: Unable to import Axes3D. This may be due to multiple versions of Matplotlib being installed (e.g. as a system package and as a pip package). As a result, the 3D projection is not available.\n",
      "  warnings.warn(\"Unable to import Axes3D. This may be due to multiple versions of \"\n"
     ]
    }
   ],
   "source": [
    "import pandas as pd\n",
    "import numpy as np\n",
    "import matplotlib.pyplot as plt\n",
    "import seaborn as sns\n",
    "import matplotlib.cm as cm"
   ]
  },
  {
   "cell_type": "markdown",
   "metadata": {},
   "source": [
    "### Data preprocessing and feature engineering functions"
   ]
  },
  {
   "cell_type": "code",
   "execution_count": 4,
   "metadata": {},
   "outputs": [],
   "source": [
    "def load_data(filepath):\n",
    "    \"\"\"\n",
    "    Load data from a specified CSV file and convert the 'date' column to datetime format.\n",
    "\n",
    "    Args:\n",
    "        filepath (str): The path to the CSV file to be loaded.\n",
    "\n",
    "    Returns:\n",
    "        pd.DataFrame: A DataFrame with the 'date' column converted to datetime objects.\n",
    "    \"\"\"\n",
    "    data = pd.read_csv(filepath)\n",
    "    data['date'] = pd.to_datetime(data['date'])\n",
    "    return data\n",
    "\n",
    "def process_date_column(df, date_column):\n",
    "    \"\"\"\n",
    "    Convert a specified column in a DataFrame to datetime and extract day, month, and year components.\n",
    "    \n",
    "    Args:\n",
    "    df (pd.DataFrame): DataFrame containing the data.\n",
    "    date_column (str): Name of the column to convert to datetime and extract components.\n",
    "\n",
    "    Returns:\n",
    "    pd.DataFrame: The original DataFrame with the date column converted to datetime and new columns for day, month, and year.\n",
    "    \"\"\"\n",
    "    # Convert the column to datetime\n",
    "    df[date_column] = pd.to_datetime(df[date_column])\n",
    "\n",
    "    # Extract day, month, and year into separate columns\n",
    "    df[f'{date_column}_day'] = df[date_column].dt.day\n",
    "    df[f'{date_column}_month'] = df[date_column].dt.month\n",
    "    df[f'{date_column}_year'] = df[date_column].dt.year\n",
    "\n",
    "    return df\n",
    "\n",
    "\n",
    "def create_lagged_features(df, column_name, lags):\n",
    "    \"\"\"\n",
    "    Create lagged features for specified time lags.\n",
    "\n",
    "    Args:\n",
    "    df (pd.DataFrame): DataFrame containing the data.\n",
    "    column_name (str): Name of the column to create lag features for.\n",
    "    lags (list of int): List containing the lag periods.\n",
    "\n",
    "    Returns:\n",
    "    pd.DataFrame: DataFrame with new columns for each lag feature.\n",
    "    \"\"\"\n",
    "    for lag in lags:\n",
    "        df[f'{column_name}_lag_{lag}'] = df[column_name].shift(lag)\n",
    "    return df\n",
    "\n",
    "def calculate_rolling_statistics(df, column_prefix, windows):\n",
    "    \"\"\"\n",
    "    Calculate rolling mean and standard deviation for each window size.\n",
    "\n",
    "    Args:\n",
    "    df (pd.DataFrame): DataFrame containing the data.\n",
    "    column_prefix (str): Prefix of the column names to calculate rolling stats for.\n",
    "    windows (list of int): List containing the window sizes.\n",
    "\n",
    "    Returns:\n",
    "    pd.DataFrame: DataFrame with rolling mean and std added as new columns.\n",
    "    \"\"\"\n",
    "    for window in windows:\n",
    "        df[f'{column_prefix}_mean_{window}d'] = df[f'{column_prefix}_lag_{window}'].rolling(window=window, min_periods=1).mean()\n",
    "        df[f'{column_prefix}_std_{window}d'] = df[f'{column_prefix}_lag_{window}'].rolling(window=window, min_periods=1).std()\n",
    "    return df\n",
    "\n"
   ]
  },
  {
   "cell_type": "code",
   "execution_count": 14,
   "metadata": {},
   "outputs": [],
   "source": [
    "df = load_data('/home/amy/work/RIT/TDess/DSCI-601-Amy/Data/Combined/combined_AAPL.csv')\n"
   ]
  },
  {
   "cell_type": "code",
   "execution_count": 15,
   "metadata": {},
   "outputs": [],
   "source": [
    "df = process_date_column(df, 'date')"
   ]
  },
  {
   "cell_type": "markdown",
   "metadata": {},
   "source": [
    "#### Setting the index"
   ]
  },
  {
   "cell_type": "code",
   "execution_count": 16,
   "metadata": {},
   "outputs": [],
   "source": [
    "df.set_index('date', inplace=True)"
   ]
  },
  {
   "cell_type": "code",
   "execution_count": 19,
   "metadata": {},
   "outputs": [],
   "source": [
    "# Define lags and window sizes\n",
    "lags = [1, 7, 30]\n",
    "windows = [1, 7, 30] # for rolling window\n",
    "\n",
    "# Create lagged features\n",
    "df = create_lagged_features(df, 'RET', lags)"
   ]
  },
  {
   "cell_type": "code",
   "execution_count": 21,
   "metadata": {},
   "outputs": [],
   "source": [
    "df = calculate_rolling_statistics(df, 'RET', windows)"
   ]
  },
  {
   "cell_type": "code",
   "execution_count": 23,
   "metadata": {},
   "outputs": [
    {
     "name": "stdout",
     "output_type": "stream",
     "text": [
      "                 RET  VOL_CHANGE  BA_SPREAD   ILLIQUIDITY    sprtrn  \\\n",
      "date                                                                  \n",
      "1992-01-02  0.055432    0.717745   0.008403  4.510000e-10  0.000408   \n",
      "1992-01-03 -0.008403   -0.172890   0.004237 -8.340000e-11  0.004985   \n",
      "1992-01-06 -0.016949   -0.399632   0.004310 -2.850000e-10 -0.003291   \n",
      "1992-01-07  0.019397    0.237283   0.004228  2.590000e-10 -0.001340   \n",
      "1992-01-08  0.023256    0.645321   0.004132  1.840000e-10  0.001677   \n",
      "\n",
      "             TURNOVER  DJI_Return  date_day  date_month  date_year  RET_lag_1  \\\n",
      "date                                                                            \n",
      "1992-01-02  17.419850    0.000000         2           1       1992        NaN   \n",
      "1992-01-03  14.408127    0.009173         3           1       1992   0.055432   \n",
      "1992-01-06   8.650181   -0.000437         6           1       1992  -0.008403   \n",
      "1992-01-07  10.702726    0.001469         7           1       1992  -0.016949   \n",
      "1992-01-08  17.609419   -0.000281         8           1       1992   0.019397   \n",
      "\n",
      "            RET_lag_7  RET_lag_30  RET_mean_1d  RET_std_1d  RET_mean_7d  \\\n",
      "date                                                                      \n",
      "1992-01-02        NaN         NaN          NaN         NaN          NaN   \n",
      "1992-01-03        NaN         NaN     0.055432         NaN          NaN   \n",
      "1992-01-06        NaN         NaN    -0.008403         NaN          NaN   \n",
      "1992-01-07        NaN         NaN    -0.016949         NaN          NaN   \n",
      "1992-01-08        NaN         NaN     0.019397         NaN          NaN   \n",
      "\n",
      "            RET_std_7d  RET_mean_30d  RET_std_30d  \n",
      "date                                               \n",
      "1992-01-02         NaN           NaN          NaN  \n",
      "1992-01-03         NaN           NaN          NaN  \n",
      "1992-01-06         NaN           NaN          NaN  \n",
      "1992-01-07         NaN           NaN          NaN  \n",
      "1992-01-08         NaN           NaN          NaN  \n"
     ]
    }
   ],
   "source": [
    "print(df.head())"
   ]
  },
  {
   "cell_type": "code",
   "execution_count": null,
   "metadata": {},
   "outputs": [],
   "source": []
  }
 ],
 "metadata": {
  "kernelspec": {
   "display_name": "Python 3",
   "language": "python",
   "name": "python3"
  },
  "language_info": {
   "codemirror_mode": {
    "name": "ipython",
    "version": 3
   },
   "file_extension": ".py",
   "mimetype": "text/x-python",
   "name": "python",
   "nbconvert_exporter": "python",
   "pygments_lexer": "ipython3",
   "version": "3.10.12"
  }
 },
 "nbformat": 4,
 "nbformat_minor": 2
}
