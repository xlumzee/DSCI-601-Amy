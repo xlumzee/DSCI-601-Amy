{
 "cells": [
  {
   "cell_type": "code",
   "execution_count": 2,
   "metadata": {},
   "outputs": [
    {
     "name": "stdout",
     "output_type": "stream",
     "text": [
      "Collecting seaborn\n",
      "  Downloading seaborn-0.13.2-py3-none-any.whl.metadata (5.4 kB)\n",
      "Requirement already satisfied: numpy!=1.24.0,>=1.20 in /Library/Frameworks/Python.framework/Versions/3.12/lib/python3.12/site-packages (from seaborn) (2.0.1)\n",
      "Requirement already satisfied: pandas>=1.2 in /Library/Frameworks/Python.framework/Versions/3.12/lib/python3.12/site-packages (from seaborn) (2.2.2)\n",
      "Requirement already satisfied: matplotlib!=3.6.1,>=3.4 in /Library/Frameworks/Python.framework/Versions/3.12/lib/python3.12/site-packages (from seaborn) (3.9.2)\n",
      "Requirement already satisfied: contourpy>=1.0.1 in /Library/Frameworks/Python.framework/Versions/3.12/lib/python3.12/site-packages (from matplotlib!=3.6.1,>=3.4->seaborn) (1.2.1)\n",
      "Requirement already satisfied: cycler>=0.10 in /Library/Frameworks/Python.framework/Versions/3.12/lib/python3.12/site-packages (from matplotlib!=3.6.1,>=3.4->seaborn) (0.12.1)\n",
      "Requirement already satisfied: fonttools>=4.22.0 in /Library/Frameworks/Python.framework/Versions/3.12/lib/python3.12/site-packages (from matplotlib!=3.6.1,>=3.4->seaborn) (4.53.1)\n",
      "Requirement already satisfied: kiwisolver>=1.3.1 in /Library/Frameworks/Python.framework/Versions/3.12/lib/python3.12/site-packages (from matplotlib!=3.6.1,>=3.4->seaborn) (1.4.5)\n",
      "Requirement already satisfied: packaging>=20.0 in /Users/amulya/Library/Python/3.12/lib/python/site-packages (from matplotlib!=3.6.1,>=3.4->seaborn) (24.1)\n",
      "Requirement already satisfied: pillow>=8 in /Library/Frameworks/Python.framework/Versions/3.12/lib/python3.12/site-packages (from matplotlib!=3.6.1,>=3.4->seaborn) (10.4.0)\n",
      "Requirement already satisfied: pyparsing>=2.3.1 in /Library/Frameworks/Python.framework/Versions/3.12/lib/python3.12/site-packages (from matplotlib!=3.6.1,>=3.4->seaborn) (3.1.4)\n",
      "Requirement already satisfied: python-dateutil>=2.7 in /Users/amulya/Library/Python/3.12/lib/python/site-packages (from matplotlib!=3.6.1,>=3.4->seaborn) (2.9.0.post0)\n",
      "Requirement already satisfied: pytz>=2020.1 in /Library/Frameworks/Python.framework/Versions/3.12/lib/python3.12/site-packages (from pandas>=1.2->seaborn) (2024.1)\n",
      "Requirement already satisfied: tzdata>=2022.7 in /Library/Frameworks/Python.framework/Versions/3.12/lib/python3.12/site-packages (from pandas>=1.2->seaborn) (2024.1)\n",
      "Requirement already satisfied: six>=1.5 in /Users/amulya/Library/Python/3.12/lib/python/site-packages (from python-dateutil>=2.7->matplotlib!=3.6.1,>=3.4->seaborn) (1.16.0)\n",
      "Downloading seaborn-0.13.2-py3-none-any.whl (294 kB)\n",
      "Installing collected packages: seaborn\n",
      "Successfully installed seaborn-0.13.2\n",
      "Note: you may need to restart the kernel to use updated packages.\n"
     ]
    }
   ],
   "source": [
    "pip install seaborn"
   ]
  },
  {
   "cell_type": "code",
   "execution_count": 3,
   "metadata": {},
   "outputs": [],
   "source": [
    "import pandas as pd\n",
    "import numpy as np\n",
    "import matplotlib.pyplot as plt\n",
    "import seaborn as sns\n",
    "import matplotlib.cm as cm"
   ]
  },
  {
   "cell_type": "markdown",
   "metadata": {},
   "source": [
    "### Data preprocessing and feature engineering functions"
   ]
  },
  {
   "cell_type": "code",
   "execution_count": 4,
   "metadata": {},
   "outputs": [],
   "source": [
    "def load_data(filepath):\n",
    "    \"\"\"\n",
    "    Load data from a specified CSV file and convert the 'date' column to datetime format.\n",
    "\n",
    "    Args:\n",
    "        filepath (str): The path to the CSV file to be loaded.\n",
    "\n",
    "    Returns:\n",
    "        pd.DataFrame: A DataFrame with the 'date' column converted to datetime objects.\n",
    "    \"\"\"\n",
    "    data = pd.read_csv(filepath)\n",
    "    data['date'] = pd.to_datetime(data['date'])\n",
    "    return data\n",
    "\n",
    "def process_date_column(df, date_column):\n",
    "    \"\"\"\n",
    "    Convert a specified column in a DataFrame to datetime and extract day, month, and year components.\n",
    "    \n",
    "    Args:\n",
    "    df (pd.DataFrame): DataFrame containing the data.\n",
    "    date_column (str): Name of the column to convert to datetime and extract components.\n",
    "\n",
    "    Returns:\n",
    "    pd.DataFrame: The original DataFrame with the date column converted to datetime and new columns for day, month, and year.\n",
    "    \"\"\"\n",
    "    # Convert the column to datetime\n",
    "    df[date_column] = pd.to_datetime(df[date_column])\n",
    "\n",
    "    # Extract day, month, and year into separate columns\n",
    "    df[f'{date_column}_day'] = df[date_column].dt.day\n",
    "    df[f'{date_column}_month'] = df[date_column].dt.month\n",
    "    df[f'{date_column}_year'] = df[date_column].dt.year\n",
    "\n",
    "    return df\n",
    "\n",
    "\n",
    "def create_lagged_features(df, column_name, lags):\n",
    "    \"\"\"\n",
    "    Create lagged features for specified time lags.\n",
    "\n",
    "    Args:\n",
    "    df (pd.DataFrame): DataFrame containing the data.\n",
    "    column_name (str): Name of the column to create lag features for.\n",
    "    lags (list of int): List containing the lag periods.\n",
    "\n",
    "    Returns:\n",
    "    pd.DataFrame: DataFrame with new columns for each lag feature.\n",
    "    \"\"\"\n",
    "    for lag in lags:\n",
    "        df[f'{column_name}_lag_{lag}'] = df[column_name].shift(lag)\n",
    "    return df\n",
    "\n",
    "def calculate_rolling_statistics(df, column_prefix, windows):\n",
    "    \"\"\"\n",
    "    Calculate rolling mean and standard deviation for each window size.\n",
    "\n",
    "    Args:\n",
    "    df (pd.DataFrame): DataFrame containing the data.\n",
    "    column_prefix (str): Prefix of the column names to calculate rolling stats for.\n",
    "    windows (list of int): List containing the window sizes.\n",
    "\n",
    "    Returns:\n",
    "    pd.DataFrame: DataFrame with rolling mean and std added as new columns.\n",
    "    \"\"\"\n",
    "    for window in windows:\n",
    "        df[f'{column_prefix}_mean_{window}d'] = df[f'{column_prefix}_lag_{window}'].rolling(window=window, min_periods=1).mean()\n",
    "        df[f'{column_prefix}_std_{window}d'] = df[f'{column_prefix}_lag_{window}'].rolling(window=window, min_periods=1).std()\n",
    "    return df\n",
    "\n"
   ]
  },
  {
   "cell_type": "code",
   "execution_count": 6,
   "metadata": {},
   "outputs": [],
   "source": [
    "df = load_data('/Users/amulya/Desktop/Capstone/DSCI-601-Amy/Data/Combined/combined_AMZN.csv')\n"
   ]
  },
  {
   "cell_type": "code",
   "execution_count": 7,
   "metadata": {},
   "outputs": [],
   "source": [
    "df = process_date_column(df, 'date')"
   ]
  },
  {
   "cell_type": "markdown",
   "metadata": {},
   "source": [
    "#### Setting the index"
   ]
  },
  {
   "cell_type": "code",
   "execution_count": 8,
   "metadata": {},
   "outputs": [],
   "source": [
    "df.set_index('date', inplace=True)"
   ]
  },
  {
   "cell_type": "code",
   "execution_count": 9,
   "metadata": {},
   "outputs": [],
   "source": [
    "# Define lags and window sizes\n",
    "lags = [1, 7, 30]\n",
    "windows = [1, 7, 30] # for rolling window\n",
    "\n",
    "# Create lagged features\n",
    "df = create_lagged_features(df, 'RET', lags)"
   ]
  },
  {
   "cell_type": "code",
   "execution_count": 10,
   "metadata": {},
   "outputs": [],
   "source": [
    "df = calculate_rolling_statistics(df, 'RET', windows)"
   ]
  },
  {
   "cell_type": "code",
   "execution_count": 11,
   "metadata": {},
   "outputs": [
    {
     "name": "stdout",
     "output_type": "stream",
     "text": [
      "                 RET  VOL_CHANGE  BA_SPREAD   ILLIQUIDITY    sprtrn  \\\n",
      "date                                                                  \n",
      "1997-05-16 -0.117021   -0.795644   0.024096 -4.580000e-09 -0.014408   \n",
      "1997-05-19 -0.012048   -0.584435   0.006098 -1.150000e-09  0.004242   \n",
      "1997-05-20 -0.042683   -0.108800   0.006369 -4.770000e-09  0.010069   \n",
      "1997-05-21 -0.127389    2.456535   0.007299 -4.720000e-09 -0.002745   \n",
      "1997-05-22 -0.021898   -0.376286   0.007463 -1.330000e-09 -0.004396   \n",
      "\n",
      "             TURNOVER  DJI_Return  date_day  date_month  date_year  RET_lag_1  \\\n",
      "date                                                                            \n",
      "1997-05-16  51.646171   -0.018927        16           5       1997        NaN   \n",
      "1997-05-19  21.462341    0.004753        19           5       1997  -0.117021   \n",
      "1997-05-20  19.127248    0.010320        20           5       1997  -0.012048   \n",
      "1997-05-21  66.114003   -0.001753        21           5       1997  -0.042683   \n",
      "1997-05-22  41.236221   -0.004471        22           5       1997  -0.127389   \n",
      "\n",
      "            RET_lag_7  RET_lag_30  RET_mean_1d  RET_std_1d  RET_mean_7d  \\\n",
      "date                                                                      \n",
      "1997-05-16        NaN         NaN          NaN         NaN          NaN   \n",
      "1997-05-19        NaN         NaN    -0.117021         NaN          NaN   \n",
      "1997-05-20        NaN         NaN    -0.012048         NaN          NaN   \n",
      "1997-05-21        NaN         NaN    -0.042683         NaN          NaN   \n",
      "1997-05-22        NaN         NaN    -0.127389         NaN          NaN   \n",
      "\n",
      "            RET_std_7d  RET_mean_30d  RET_std_30d  \n",
      "date                                               \n",
      "1997-05-16         NaN           NaN          NaN  \n",
      "1997-05-19         NaN           NaN          NaN  \n",
      "1997-05-20         NaN           NaN          NaN  \n",
      "1997-05-21         NaN           NaN          NaN  \n",
      "1997-05-22         NaN           NaN          NaN  \n"
     ]
    }
   ],
   "source": [
    "print(df.head())"
   ]
  },
  {
   "cell_type": "code",
   "execution_count": null,
   "metadata": {},
   "outputs": [],
   "source": []
  }
 ],
 "metadata": {
  "kernelspec": {
   "display_name": "Python 3",
   "language": "python",
   "name": "python3"
  },
  "language_info": {
   "codemirror_mode": {
    "name": "ipython",
    "version": 3
   },
   "file_extension": ".py",
   "mimetype": "text/x-python",
   "name": "python",
   "nbconvert_exporter": "python",
   "pygments_lexer": "ipython3",
   "version": "3.12.4"
  }
 },
 "nbformat": 4,
 "nbformat_minor": 2
}
