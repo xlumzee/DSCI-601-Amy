{
 "cells": [
  {
   "cell_type": "code",
   "execution_count": 19,
   "id": "b6d2d272-b78a-4891-828a-1662c654922b",
   "metadata": {},
   "outputs": [],
   "source": [
    "import pandas as pd\n",
    "from statsmodels.tsa.api import VAR\n",
    "from sklearn.metrics import mean_absolute_error, mean_squared_error, r2_score\n",
    "import numpy as np\n",
    "from sklearn.preprocessing import StandardScaler"
   ]
  },
  {
   "cell_type": "code",
   "execution_count": 20,
   "id": "f51592d6-c77f-421c-998d-e24e22564d9a",
   "metadata": {},
   "outputs": [
    {
     "name": "stderr",
     "output_type": "stream",
     "text": [
      "/var/folders/69/00tjyfg95_d37pp6ql47yf9h0000gn/T/ipykernel_22703/3782561420.py:4: FutureWarning: DataFrame.fillna with 'method' is deprecated and will raise in a future version. Use obj.ffill() or obj.bfill() instead.\n",
      "  data.fillna(method='ffill', inplace=True)\n"
     ]
    }
   ],
   "source": [
    "file_path = \"/Users/amulya/Desktop/Capstone/DSCI-601-Amy/Data/FeatureEngineered/AKAM_feature_engineeredv2.csv\"  \n",
    "data = pd.read_csv(file_path)\n",
    "\n",
    "data.fillna(method='ffill', inplace=True)"
   ]
  },
  {
   "cell_type": "code",
   "execution_count": 21,
   "id": "79b6db7d-2aba-4be0-998c-7f840e0c74d6",
   "metadata": {},
   "outputs": [],
   "source": [
    "data.dropna(inplace=True)"
   ]
  },
  {
   "cell_type": "code",
   "execution_count": 22,
   "id": "6f8bae23-8a60-44a7-b2bb-52e23c996762",
   "metadata": {},
   "outputs": [
    {
     "data": {
      "text/plain": [
       "date               0\n",
       "TICKER             0\n",
       "CUSIP              0\n",
       "COMNAM             0\n",
       "RET                0\n",
       "VOL_CHANGE         0\n",
       "BA_SPREAD          0\n",
       "ILLIQUIDITY        0\n",
       "sprtrn             0\n",
       "TURNOVER           0\n",
       "PRC                0\n",
       "SHROUT             0\n",
       "MARKET_CAP         0\n",
       "TRAN_COST          0\n",
       "ASK                0\n",
       "BID                0\n",
       "day_of_week        0\n",
       "day_of_month       0\n",
       "month              0\n",
       "is_month_start     0\n",
       "is_month_end       0\n",
       "year               0\n",
       "week               0\n",
       "RET_ema_12         0\n",
       "RET_ema_26         0\n",
       "RET_skew_10        0\n",
       "RET_kurtosis_10    0\n",
       "RET_entropy_10     0\n",
       "RSI                0\n",
       "OBV                0\n",
       "RET_lag_1          0\n",
       "RET_lag_7          0\n",
       "RET_lag_14         0\n",
       "RET_lag_30         0\n",
       "RET_mean_7d        0\n",
       "RET_std_7d         0\n",
       "RET_mean_14d       0\n",
       "RET_std_14d        0\n",
       "RET_mean_30d       0\n",
       "RET_std_30d        0\n",
       "dtype: int64"
      ]
     },
     "execution_count": 22,
     "metadata": {},
     "output_type": "execute_result"
    }
   ],
   "source": [
    "data.isnull().sum()"
   ]
  },
  {
   "cell_type": "code",
   "execution_count": 23,
   "id": "fe1d97f1-7488-47f4-9d02-c3ca74c97dd1",
   "metadata": {},
   "outputs": [
    {
     "name": "stderr",
     "output_type": "stream",
     "text": [
      "/var/folders/69/00tjyfg95_d37pp6ql47yf9h0000gn/T/ipykernel_22703/3464024915.py:7: SettingWithCopyWarning: \n",
      "A value is trying to be set on a copy of a slice from a DataFrame\n",
      "\n",
      "See the caveats in the documentation: https://pandas.pydata.org/pandas-docs/stable/user_guide/indexing.html#returning-a-view-versus-a-copy\n",
      "  features.dropna(inplace=True)\n"
     ]
    }
   ],
   "source": [
    "\n",
    "features = data[['RET', 'VOL_CHANGE', 'BA_SPREAD', 'ILLIQUIDITY', 'TURNOVER', \n",
    "                 'PRC', 'RET_ema_12', 'RET_ema_26', 'RET_mean_7d', 'RET_std_7d',\n",
    "                 'RET_mean_14d', 'RET_std_14d', 'RET_mean_30d', 'RET_std_30d',\n",
    "                 'RET_lag_7', 'RET_lag_14', 'RET_lag_30']]\n",
    "\n",
    "\n",
    "features.dropna(inplace=True)\n",
    "\n",
    "\n",
    "scaler = StandardScaler()\n",
    "features_scaled = pd.DataFrame(scaler.fit_transform(features), columns=features.columns)"
   ]
  },
  {
   "cell_type": "code",
   "execution_count": 24,
   "id": "d4b11c60-46a0-4cb4-aebd-002b19705ea1",
   "metadata": {},
   "outputs": [],
   "source": [
    "# Split data into train and test sets\n",
    "train_size = int(len(features_scaled) * 0.8)\n",
    "train_data = features_scaled.iloc[:train_size]\n",
    "test_data = features_scaled.iloc[train_size:]\n"
   ]
  },
  {
   "cell_type": "markdown",
   "id": "4a11a44f-b377-426b-a631-06635bf4a6dc",
   "metadata": {
    "jp-MarkdownHeadingCollapsed": true
   },
   "source": [
    "## Dealing with error"
   ]
  },
  {
   "cell_type": "code",
   "execution_count": 27,
   "id": "6dca194f-bd4d-4db0-b052-05dc47c706c1",
   "metadata": {},
   "outputs": [
    {
     "name": "stdout",
     "output_type": "stream",
     "text": [
      "                   RET  VOL_CHANGE  BA_SPREAD  ILLIQUIDITY  TURNOVER  \\\n",
      "RET           1.000000    0.075179  -0.006117     0.319487  0.055670   \n",
      "VOL_CHANGE    0.075179    1.000000   0.016066     0.035431  0.453740   \n",
      "BA_SPREAD    -0.006117    0.016066   1.000000    -0.090281 -0.109243   \n",
      "ILLIQUIDITY   0.319487    0.035431  -0.090281     1.000000  0.015381   \n",
      "TURNOVER      0.055670    0.453740  -0.109243     0.015381  1.000000   \n",
      "PRC           0.005423   -0.004495  -0.253646     0.014881 -0.158624   \n",
      "RET_ema_12    0.532967    0.016284  -0.058537     0.141220  0.040748   \n",
      "RET_ema_26    0.376231    0.014461  -0.086502     0.094526  0.032103   \n",
      "RET_mean_7d   0.024772    0.018645  -0.052983     0.024939  0.022818   \n",
      "RET_std_7d    0.015955   -0.009560   0.311321    -0.014535  0.095379   \n",
      "RET_mean_14d  0.013294    0.007688  -0.057732     0.002154  0.008829   \n",
      "RET_std_14d  -0.005605    0.010422   0.354830    -0.027782  0.059623   \n",
      "RET_mean_30d  0.002021   -0.004415  -0.091419     0.007240 -0.023032   \n",
      "RET_std_30d  -0.014971    0.013534   0.394127    -0.019944  0.064553   \n",
      "RET_lag_7     0.007312    0.011783  -0.002796    -0.002648  0.010871   \n",
      "RET_lag_14   -0.002908   -0.003388  -0.015329     0.004476  0.001249   \n",
      "RET_lag_30   -0.010656   -0.014755  -0.027425    -0.050626 -0.003679   \n",
      "\n",
      "                   PRC  RET_ema_12  RET_ema_26  RET_mean_7d  RET_std_7d  \\\n",
      "RET           0.005423    0.532967    0.376231     0.024772    0.015955   \n",
      "VOL_CHANGE   -0.004495    0.016284    0.014461     0.018645   -0.009560   \n",
      "BA_SPREAD    -0.253646   -0.058537   -0.086502    -0.052983    0.311321   \n",
      "ILLIQUIDITY   0.014881    0.141220    0.094526     0.024939   -0.014535   \n",
      "TURNOVER     -0.158624    0.040748    0.032103     0.022818    0.095379   \n",
      "PRC           1.000000    0.015672    0.067897     0.015795   -0.107735   \n",
      "RET_ema_12    0.015672    1.000000    0.925326     0.279492    0.081685   \n",
      "RET_ema_26    0.067897    0.925326    1.000000     0.463684    0.068512   \n",
      "RET_mean_7d   0.015795    0.279492    0.463684     1.000000    0.185654   \n",
      "RET_std_7d   -0.107735    0.081685    0.068512     0.185654    1.000000   \n",
      "RET_mean_14d  0.040090    0.109453    0.335398     0.010984   -0.149616   \n",
      "RET_std_14d  -0.136823    0.006238    0.028804     0.017184    0.591200   \n",
      "RET_mean_30d  0.163671    0.009306    0.127180     0.013657   -0.124828   \n",
      "RET_std_30d  -0.127376   -0.038442   -0.024360    -0.025526    0.560694   \n",
      "RET_lag_7     0.003821    0.148371    0.208118     0.360640    0.085859   \n",
      "RET_lag_14    0.005363    0.063186    0.136864    -0.012054   -0.023775   \n",
      "RET_lag_30    0.011236    0.032382    0.067086    -0.011496   -0.034706   \n",
      "\n",
      "              RET_mean_14d  RET_std_14d  RET_mean_30d  RET_std_30d  RET_lag_7  \\\n",
      "RET               0.013294    -0.005605      0.002021    -0.014971   0.007312   \n",
      "VOL_CHANGE        0.007688     0.010422     -0.004415     0.013534   0.011783   \n",
      "BA_SPREAD        -0.057732     0.354830     -0.091419     0.394127  -0.002796   \n",
      "ILLIQUIDITY       0.002154    -0.027782      0.007240    -0.019944  -0.002648   \n",
      "TURNOVER          0.008829     0.059623     -0.023032     0.064553   0.010871   \n",
      "PRC               0.040090    -0.136823      0.163671    -0.127376   0.003821   \n",
      "RET_ema_12        0.109453     0.006238      0.009306    -0.038442   0.148371   \n",
      "RET_ema_26        0.335398     0.028804      0.127180    -0.024360   0.208118   \n",
      "RET_mean_7d       0.010984     0.017184      0.013657    -0.025526   0.360640   \n",
      "RET_std_7d       -0.149616     0.591200     -0.124828     0.560694   0.085859   \n",
      "RET_mean_14d      1.000000     0.142163      0.050978    -0.007115   0.015178   \n",
      "RET_std_14d       0.142163     1.000000     -0.148494     0.644983   0.003924   \n",
      "RET_mean_30d      0.050978    -0.148494      1.000000     0.084735   0.014881   \n",
      "RET_std_30d      -0.007115     0.644983      0.084735     1.000000  -0.008076   \n",
      "RET_lag_7         0.015178     0.003924      0.014881    -0.008076   1.000000   \n",
      "RET_lag_14        0.273239     0.060712      0.000569    -0.008792   0.008565   \n",
      "RET_lag_30        0.015194    -0.042928      0.195781     0.030131   0.006395   \n",
      "\n",
      "              RET_lag_14  RET_lag_30  \n",
      "RET            -0.002908   -0.010656  \n",
      "VOL_CHANGE     -0.003388   -0.014755  \n",
      "BA_SPREAD      -0.015329   -0.027425  \n",
      "ILLIQUIDITY     0.004476   -0.050626  \n",
      "TURNOVER        0.001249   -0.003679  \n",
      "PRC             0.005363    0.011236  \n",
      "RET_ema_12      0.063186    0.032382  \n",
      "RET_ema_26      0.136864    0.067086  \n",
      "RET_mean_7d    -0.012054   -0.011496  \n",
      "RET_std_7d     -0.023775   -0.034706  \n",
      "RET_mean_14d    0.273239    0.015194  \n",
      "RET_std_14d     0.060712   -0.042928  \n",
      "RET_mean_30d    0.000569    0.195781  \n",
      "RET_std_30d    -0.008792    0.030131  \n",
      "RET_lag_7       0.008565    0.006395  \n",
      "RET_lag_14      1.000000    0.053170  \n",
      "RET_lag_30      0.053170    1.000000  \n"
     ]
    }
   ],
   "source": [
    "correlation_matrix = train_data.corr()\n",
    "print(correlation_matrix)\n"
   ]
  },
  {
   "cell_type": "code",
   "execution_count": 28,
   "id": "95f02e5c-aef4-4f4c-b782-f9a099365db8",
   "metadata": {},
   "outputs": [],
   "source": [
    "train_data_diff = train_data.diff().dropna()\n"
   ]
  },
  {
   "cell_type": "code",
   "execution_count": 29,
   "id": "34b81047-623f-4fdc-8948-a94b9781ce47",
   "metadata": {},
   "outputs": [
    {
     "name": "stdout",
     "output_type": "stream",
     "text": [
      "RET: p-value = 1.5723486085406141e-21\n",
      "VOL_CHANGE: p-value = 0.0\n",
      "BA_SPREAD: p-value = 0.09944660110140957\n",
      "ILLIQUIDITY: p-value = 6.1764167394065375e-24\n",
      "TURNOVER: p-value = 3.8724411282419324e-10\n",
      "PRC: p-value = 5.731132621498917e-10\n",
      "RET_ema_12: p-value = 4.6764006838330663e-20\n",
      "RET_ema_26: p-value = 3.381943041704588e-17\n",
      "RET_mean_7d: p-value = 2.923347457564208e-20\n",
      "RET_std_7d: p-value = 1.4252451942593623e-05\n",
      "RET_mean_14d: p-value = 4.59135195942962e-18\n",
      "RET_std_14d: p-value = 8.897501856669607e-05\n",
      "RET_mean_30d: p-value = 6.147707251335246e-14\n",
      "RET_std_30d: p-value = 0.007363946714567\n",
      "RET_lag_7: p-value = 1.4307768132633018e-21\n",
      "RET_lag_14: p-value = 1.238451990536758e-21\n",
      "RET_lag_30: p-value = 8.479202464632231e-22\n"
     ]
    }
   ],
   "source": [
    "from statsmodels.tsa.stattools import adfuller\n",
    "\n",
    "for column in train_data.columns:\n",
    "    result = adfuller(train_data[column])\n",
    "    print(f\"{column}: p-value = {result[1]}\")\n"
   ]
  },
  {
   "cell_type": "code",
   "execution_count": 30,
   "id": "c82f794a-6ce8-4843-a87a-dcf0d9aaa0d3",
   "metadata": {},
   "outputs": [
    {
     "ename": "AttributeError",
     "evalue": "'LedoitWolf' object has no attribute 'fit_transform'",
     "output_type": "error",
     "traceback": [
      "\u001b[0;31m---------------------------------------------------------------------------\u001b[0m",
      "\u001b[0;31mAttributeError\u001b[0m                            Traceback (most recent call last)",
      "Cell \u001b[0;32mIn[30], line 4\u001b[0m\n\u001b[1;32m      1\u001b[0m \u001b[38;5;28;01mfrom\u001b[39;00m \u001b[38;5;21;01msklearn\u001b[39;00m\u001b[38;5;21;01m.\u001b[39;00m\u001b[38;5;21;01mcovariance\u001b[39;00m \u001b[38;5;28;01mimport\u001b[39;00m LedoitWolf\n\u001b[1;32m      3\u001b[0m cov_estimator \u001b[38;5;241m=\u001b[39m LedoitWolf()\n\u001b[0;32m----> 4\u001b[0m train_data_regularized \u001b[38;5;241m=\u001b[39m pd\u001b[38;5;241m.\u001b[39mDataFrame(\u001b[43mcov_estimator\u001b[49m\u001b[38;5;241;43m.\u001b[39;49m\u001b[43mfit_transform\u001b[49m(train_data), columns\u001b[38;5;241m=\u001b[39mtrain_data\u001b[38;5;241m.\u001b[39mcolumns)\n",
      "\u001b[0;31mAttributeError\u001b[0m: 'LedoitWolf' object has no attribute 'fit_transform'"
     ]
    }
   ],
   "source": [
    "from sklearn.covariance import LedoitWolf\n",
    "\n",
    "cov_estimator = LedoitWolf()\n",
    "train_data_regularized = pd.DataFrame(cov_estimator.fit_transform(train_data), columns=train_data.columns)\n"
   ]
  },
  {
   "cell_type": "code",
   "execution_count": null,
   "id": "28672ce9-ee2d-4817-833f-d4880ed02f9d",
   "metadata": {},
   "outputs": [],
   "source": []
  },
  {
   "cell_type": "code",
   "execution_count": null,
   "id": "da635b69-865f-44b8-9580-b56a75655032",
   "metadata": {},
   "outputs": [],
   "source": []
  },
  {
   "cell_type": "code",
   "execution_count": 25,
   "id": "b43921c5-c751-4e4e-abd3-0733fe80ea24",
   "metadata": {},
   "outputs": [
    {
     "ename": "LinAlgError",
     "evalue": "16-th leading minor of the array is not positive definite",
     "output_type": "error",
     "traceback": [
      "\u001b[0;31m---------------------------------------------------------------------------\u001b[0m",
      "\u001b[0;31mLinAlgError\u001b[0m                               Traceback (most recent call last)",
      "Cell \u001b[0;32mIn[25], line 5\u001b[0m\n\u001b[1;32m      3\u001b[0m \u001b[38;5;66;03m# Fit the VAR model\u001b[39;00m\n\u001b[1;32m      4\u001b[0m model \u001b[38;5;241m=\u001b[39m VAR(train_data)\n\u001b[0;32m----> 5\u001b[0m results \u001b[38;5;241m=\u001b[39m \u001b[43mmodel\u001b[49m\u001b[38;5;241;43m.\u001b[39;49m\u001b[43mfit\u001b[49m\u001b[43m(\u001b[49m\u001b[43mmaxlags\u001b[49m\u001b[38;5;241;43m=\u001b[39;49m\u001b[38;5;241;43m15\u001b[39;49m\u001b[43m,\u001b[49m\u001b[43m \u001b[49m\u001b[43mic\u001b[49m\u001b[38;5;241;43m=\u001b[39;49m\u001b[38;5;124;43m'\u001b[39;49m\u001b[38;5;124;43maic\u001b[39;49m\u001b[38;5;124;43m'\u001b[39;49m\u001b[43m)\u001b[49m  \u001b[38;5;66;03m# Use AIC for optimal lag selection\u001b[39;00m\n\u001b[1;32m      7\u001b[0m \u001b[38;5;66;03m# Print the results summary\u001b[39;00m\n\u001b[1;32m      8\u001b[0m \u001b[38;5;28mprint\u001b[39m(results\u001b[38;5;241m.\u001b[39msummary())\n",
      "File \u001b[0;32m~/.pyenv/versions/3.12.7/lib/python3.12/site-packages/statsmodels/tsa/vector_ar/var_model.py:658\u001b[0m, in \u001b[0;36mVAR.fit\u001b[0;34m(self, maxlags, method, ic, trend, verbose)\u001b[0m\n\u001b[1;32m    655\u001b[0m     \u001b[38;5;28;01mraise\u001b[39;00m \u001b[38;5;167;01mValueError\u001b[39;00m(\u001b[38;5;124mf\u001b[39m\u001b[38;5;124m\"\u001b[39m\u001b[38;5;124mtrend \u001b[39m\u001b[38;5;124m'\u001b[39m\u001b[38;5;132;01m{\u001b[39;00mtrend\u001b[38;5;132;01m}\u001b[39;00m\u001b[38;5;124m'\u001b[39m\u001b[38;5;124m not supported for VAR\u001b[39m\u001b[38;5;124m\"\u001b[39m)\n\u001b[1;32m    657\u001b[0m \u001b[38;5;28;01mif\u001b[39;00m ic \u001b[38;5;129;01mis\u001b[39;00m \u001b[38;5;129;01mnot\u001b[39;00m \u001b[38;5;28;01mNone\u001b[39;00m:\n\u001b[0;32m--> 658\u001b[0m     selections \u001b[38;5;241m=\u001b[39m \u001b[38;5;28;43mself\u001b[39;49m\u001b[38;5;241;43m.\u001b[39;49m\u001b[43mselect_order\u001b[49m\u001b[43m(\u001b[49m\u001b[43mmaxlags\u001b[49m\u001b[38;5;241;43m=\u001b[39;49m\u001b[43mmaxlags\u001b[49m\u001b[43m)\u001b[49m\n\u001b[1;32m    659\u001b[0m     \u001b[38;5;28;01mif\u001b[39;00m \u001b[38;5;129;01mnot\u001b[39;00m \u001b[38;5;28mhasattr\u001b[39m(selections, ic):\n\u001b[1;32m    660\u001b[0m         \u001b[38;5;28;01mraise\u001b[39;00m \u001b[38;5;167;01mValueError\u001b[39;00m(\n\u001b[1;32m    661\u001b[0m             \u001b[38;5;124m\"\u001b[39m\u001b[38;5;132;01m%s\u001b[39;00m\u001b[38;5;124m not recognized, must be among \u001b[39m\u001b[38;5;132;01m%s\u001b[39;00m\u001b[38;5;124m\"\u001b[39m\n\u001b[1;32m    662\u001b[0m             \u001b[38;5;241m%\u001b[39m (ic, \u001b[38;5;28msorted\u001b[39m(selections))\n\u001b[1;32m    663\u001b[0m         )\n",
      "File \u001b[0;32m~/.pyenv/versions/3.12.7/lib/python3.12/site-packages/statsmodels/tsa/vector_ar/var_model.py:823\u001b[0m, in \u001b[0;36mVAR.select_order\u001b[0;34m(self, maxlags, trend)\u001b[0m\n\u001b[1;32m    818\u001b[0m \u001b[38;5;28;01mfor\u001b[39;00m p \u001b[38;5;129;01min\u001b[39;00m \u001b[38;5;28mrange\u001b[39m(p_min, maxlags \u001b[38;5;241m+\u001b[39m \u001b[38;5;241m1\u001b[39m):\n\u001b[1;32m    819\u001b[0m     \u001b[38;5;66;03m# exclude some periods to same amount of data used for each lag\u001b[39;00m\n\u001b[1;32m    820\u001b[0m     \u001b[38;5;66;03m# order\u001b[39;00m\n\u001b[1;32m    821\u001b[0m     result \u001b[38;5;241m=\u001b[39m \u001b[38;5;28mself\u001b[39m\u001b[38;5;241m.\u001b[39m_estimate_var(p, offset\u001b[38;5;241m=\u001b[39mmaxlags \u001b[38;5;241m-\u001b[39m p, trend\u001b[38;5;241m=\u001b[39mtrend)\n\u001b[0;32m--> 823\u001b[0m     \u001b[38;5;28;01mfor\u001b[39;00m k, v \u001b[38;5;129;01min\u001b[39;00m \u001b[43mresult\u001b[49m\u001b[38;5;241;43m.\u001b[39;49m\u001b[43minfo_criteria\u001b[49m\u001b[38;5;241m.\u001b[39mitems():\n\u001b[1;32m    824\u001b[0m         ics[k]\u001b[38;5;241m.\u001b[39mappend(v)\n\u001b[1;32m    826\u001b[0m selected_orders \u001b[38;5;241m=\u001b[39m {\n\u001b[1;32m    827\u001b[0m     k: np\u001b[38;5;241m.\u001b[39marray(v)\u001b[38;5;241m.\u001b[39margmin() \u001b[38;5;241m+\u001b[39m p_min \u001b[38;5;28;01mfor\u001b[39;00m k, v \u001b[38;5;129;01min\u001b[39;00m ics\u001b[38;5;241m.\u001b[39mitems()\n\u001b[1;32m    828\u001b[0m }\n",
      "File \u001b[0;32m~/.pyenv/versions/3.12.7/lib/python3.12/site-packages/statsmodels/base/wrapper.py:34\u001b[0m, in \u001b[0;36mResultsWrapper.__getattribute__\u001b[0;34m(self, attr)\u001b[0m\n\u001b[1;32m     31\u001b[0m \u001b[38;5;28;01mexcept\u001b[39;00m \u001b[38;5;167;01mAttributeError\u001b[39;00m:\n\u001b[1;32m     32\u001b[0m     \u001b[38;5;28;01mpass\u001b[39;00m\n\u001b[0;32m---> 34\u001b[0m obj \u001b[38;5;241m=\u001b[39m \u001b[38;5;28;43mgetattr\u001b[39;49m\u001b[43m(\u001b[49m\u001b[43mresults\u001b[49m\u001b[43m,\u001b[49m\u001b[43m \u001b[49m\u001b[43mattr\u001b[49m\u001b[43m)\u001b[49m\n\u001b[1;32m     35\u001b[0m data \u001b[38;5;241m=\u001b[39m results\u001b[38;5;241m.\u001b[39mmodel\u001b[38;5;241m.\u001b[39mdata\n\u001b[1;32m     36\u001b[0m how \u001b[38;5;241m=\u001b[39m \u001b[38;5;28mself\u001b[39m\u001b[38;5;241m.\u001b[39m_wrap_attrs\u001b[38;5;241m.\u001b[39mget(attr)\n",
      "File \u001b[0;32mproperties.pyx:36\u001b[0m, in \u001b[0;36mpandas._libs.properties.CachedProperty.__get__\u001b[0;34m()\u001b[0m\n",
      "File \u001b[0;32m~/.pyenv/versions/3.12.7/lib/python3.12/site-packages/statsmodels/tsa/vector_ar/var_model.py:2289\u001b[0m, in \u001b[0;36mVARResults.info_criteria\u001b[0;34m(self)\u001b[0m\n\u001b[1;32m   2287\u001b[0m free_params \u001b[38;5;241m=\u001b[39m lag_order \u001b[38;5;241m*\u001b[39m neqs \u001b[38;5;241m*\u001b[39m\u001b[38;5;241m*\u001b[39m \u001b[38;5;241m2\u001b[39m \u001b[38;5;241m+\u001b[39m neqs \u001b[38;5;241m*\u001b[39m \u001b[38;5;28mself\u001b[39m\u001b[38;5;241m.\u001b[39mk_exog\n\u001b[1;32m   2288\u001b[0m \u001b[38;5;28;01mif\u001b[39;00m \u001b[38;5;28mself\u001b[39m\u001b[38;5;241m.\u001b[39mdf_resid:\n\u001b[0;32m-> 2289\u001b[0m     ld \u001b[38;5;241m=\u001b[39m \u001b[43mlogdet_symm\u001b[49m\u001b[43m(\u001b[49m\u001b[38;5;28;43mself\u001b[39;49m\u001b[38;5;241;43m.\u001b[39;49m\u001b[43msigma_u_mle\u001b[49m\u001b[43m)\u001b[49m\n\u001b[1;32m   2290\u001b[0m \u001b[38;5;28;01melse\u001b[39;00m:\n\u001b[1;32m   2291\u001b[0m     ld \u001b[38;5;241m=\u001b[39m \u001b[38;5;241m-\u001b[39mnp\u001b[38;5;241m.\u001b[39minf\n",
      "File \u001b[0;32m~/.pyenv/versions/3.12.7/lib/python3.12/site-packages/statsmodels/tools/linalg.py:28\u001b[0m, in \u001b[0;36mlogdet_symm\u001b[0;34m(m, check_symm)\u001b[0m\n\u001b[1;32m     26\u001b[0m     \u001b[38;5;28;01mif\u001b[39;00m \u001b[38;5;129;01mnot\u001b[39;00m np\u001b[38;5;241m.\u001b[39mall(m \u001b[38;5;241m==\u001b[39m m\u001b[38;5;241m.\u001b[39mT):  \u001b[38;5;66;03m# would be nice to short-circuit check\u001b[39;00m\n\u001b[1;32m     27\u001b[0m         \u001b[38;5;28;01mraise\u001b[39;00m \u001b[38;5;167;01mValueError\u001b[39;00m(\u001b[38;5;124m\"\u001b[39m\u001b[38;5;124mm is not symmetric.\u001b[39m\u001b[38;5;124m\"\u001b[39m)\n\u001b[0;32m---> 28\u001b[0m c, _ \u001b[38;5;241m=\u001b[39m \u001b[43mlinalg\u001b[49m\u001b[38;5;241;43m.\u001b[39;49m\u001b[43mcho_factor\u001b[49m\u001b[43m(\u001b[49m\u001b[43mm\u001b[49m\u001b[43m,\u001b[49m\u001b[43m \u001b[49m\u001b[43mlower\u001b[49m\u001b[38;5;241;43m=\u001b[39;49m\u001b[38;5;28;43;01mTrue\u001b[39;49;00m\u001b[43m)\u001b[49m\n\u001b[1;32m     29\u001b[0m \u001b[38;5;28;01mreturn\u001b[39;00m \u001b[38;5;241m2\u001b[39m\u001b[38;5;241m*\u001b[39mnp\u001b[38;5;241m.\u001b[39msum(np\u001b[38;5;241m.\u001b[39mlog(c\u001b[38;5;241m.\u001b[39mdiagonal()))\n",
      "File \u001b[0;32m~/.pyenv/versions/3.12.7/lib/python3.12/site-packages/scipy/linalg/_decomp_cholesky.py:155\u001b[0m, in \u001b[0;36mcho_factor\u001b[0;34m(a, lower, overwrite_a, check_finite)\u001b[0m\n\u001b[1;32m     95\u001b[0m \u001b[38;5;28;01mdef\u001b[39;00m \u001b[38;5;21mcho_factor\u001b[39m(a, lower\u001b[38;5;241m=\u001b[39m\u001b[38;5;28;01mFalse\u001b[39;00m, overwrite_a\u001b[38;5;241m=\u001b[39m\u001b[38;5;28;01mFalse\u001b[39;00m, check_finite\u001b[38;5;241m=\u001b[39m\u001b[38;5;28;01mTrue\u001b[39;00m):\n\u001b[1;32m     96\u001b[0m \u001b[38;5;250m    \u001b[39m\u001b[38;5;124;03m\"\"\"\u001b[39;00m\n\u001b[1;32m     97\u001b[0m \u001b[38;5;124;03m    Compute the Cholesky decomposition of a matrix, to use in cho_solve\u001b[39;00m\n\u001b[1;32m     98\u001b[0m \n\u001b[0;32m   (...)\u001b[0m\n\u001b[1;32m    153\u001b[0m \n\u001b[1;32m    154\u001b[0m \u001b[38;5;124;03m    \"\"\"\u001b[39;00m\n\u001b[0;32m--> 155\u001b[0m     c, lower \u001b[38;5;241m=\u001b[39m \u001b[43m_cholesky\u001b[49m\u001b[43m(\u001b[49m\u001b[43ma\u001b[49m\u001b[43m,\u001b[49m\u001b[43m \u001b[49m\u001b[43mlower\u001b[49m\u001b[38;5;241;43m=\u001b[39;49m\u001b[43mlower\u001b[49m\u001b[43m,\u001b[49m\u001b[43m \u001b[49m\u001b[43moverwrite_a\u001b[49m\u001b[38;5;241;43m=\u001b[39;49m\u001b[43moverwrite_a\u001b[49m\u001b[43m,\u001b[49m\u001b[43m \u001b[49m\u001b[43mclean\u001b[49m\u001b[38;5;241;43m=\u001b[39;49m\u001b[38;5;28;43;01mFalse\u001b[39;49;00m\u001b[43m,\u001b[49m\n\u001b[1;32m    156\u001b[0m \u001b[43m                         \u001b[49m\u001b[43mcheck_finite\u001b[49m\u001b[38;5;241;43m=\u001b[39;49m\u001b[43mcheck_finite\u001b[49m\u001b[43m)\u001b[49m\n\u001b[1;32m    157\u001b[0m     \u001b[38;5;28;01mreturn\u001b[39;00m c, lower\n",
      "File \u001b[0;32m~/.pyenv/versions/3.12.7/lib/python3.12/site-packages/scipy/linalg/_decomp_cholesky.py:38\u001b[0m, in \u001b[0;36m_cholesky\u001b[0;34m(a, lower, overwrite_a, clean, check_finite)\u001b[0m\n\u001b[1;32m     36\u001b[0m c, info \u001b[38;5;241m=\u001b[39m potrf(a1, lower\u001b[38;5;241m=\u001b[39mlower, overwrite_a\u001b[38;5;241m=\u001b[39moverwrite_a, clean\u001b[38;5;241m=\u001b[39mclean)\n\u001b[1;32m     37\u001b[0m \u001b[38;5;28;01mif\u001b[39;00m info \u001b[38;5;241m>\u001b[39m \u001b[38;5;241m0\u001b[39m:\n\u001b[0;32m---> 38\u001b[0m     \u001b[38;5;28;01mraise\u001b[39;00m LinAlgError(\u001b[38;5;124m\"\u001b[39m\u001b[38;5;132;01m%d\u001b[39;00m\u001b[38;5;124m-th leading minor of the array is not positive \u001b[39m\u001b[38;5;124m\"\u001b[39m\n\u001b[1;32m     39\u001b[0m                       \u001b[38;5;124m\"\u001b[39m\u001b[38;5;124mdefinite\u001b[39m\u001b[38;5;124m\"\u001b[39m \u001b[38;5;241m%\u001b[39m info)\n\u001b[1;32m     40\u001b[0m \u001b[38;5;28;01mif\u001b[39;00m info \u001b[38;5;241m<\u001b[39m \u001b[38;5;241m0\u001b[39m:\n\u001b[1;32m     41\u001b[0m     \u001b[38;5;28;01mraise\u001b[39;00m \u001b[38;5;167;01mValueError\u001b[39;00m(\u001b[38;5;124mf\u001b[39m\u001b[38;5;124m'\u001b[39m\u001b[38;5;124mLAPACK reported an illegal value in \u001b[39m\u001b[38;5;132;01m{\u001b[39;00m\u001b[38;5;241m-\u001b[39minfo\u001b[38;5;132;01m}\u001b[39;00m\u001b[38;5;124m-th argument\u001b[39m\u001b[38;5;124m'\u001b[39m\n\u001b[1;32m     42\u001b[0m                      \u001b[38;5;124m'\u001b[39m\u001b[38;5;124mon entry to \u001b[39m\u001b[38;5;124m\"\u001b[39m\u001b[38;5;124mPOTRF\u001b[39m\u001b[38;5;124m\"\u001b[39m\u001b[38;5;124m.\u001b[39m\u001b[38;5;124m'\u001b[39m)\n",
      "\u001b[0;31mLinAlgError\u001b[0m: 16-th leading minor of the array is not positive definite"
     ]
    }
   ],
   "source": [
    "from statsmodels.tsa.api import VAR\n",
    "\n",
    "# Fit the VAR model\n",
    "model = VAR(train_data)\n",
    "results = model.fit(maxlags=15, ic='aic')  # Use AIC for optimal lag selection\n",
    "\n",
    "# Print the results summary\n",
    "print(results.summary())\n"
   ]
  },
  {
   "cell_type": "code",
   "execution_count": null,
   "id": "d6692777-7355-461c-b6c1-6aca6468e8a8",
   "metadata": {},
   "outputs": [],
   "source": [
    "# Forecast for the test data\n",
    "forecast_steps = len(test_data)\n",
    "forecast = results.forecast(train_data.values[-results.k_ar:], steps=forecast_steps)\n",
    "\n",
    "# Convert forecast to DataFrame\n",
    "forecast_df = pd.DataFrame(forecast, columns=features_scaled.columns, index=test_data.index)\n",
    "\n",
    "# Rescale forecast back to original scale\n",
    "forecast_original_scale = pd.DataFrame(scaler.inverse_transform(forecast_df), \n",
    "                                       columns=features.columns, \n",
    "                                       index=test_data.index)\n"
   ]
  },
  {
   "cell_type": "code",
   "execution_count": null,
   "id": "97491a02-ed22-4f2b-8a2b-67fb6e7b578d",
   "metadata": {},
   "outputs": [],
   "source": [
    "from sklearn.metrics import mean_absolute_error, mean_squared_error, r2_score\n",
    "\n",
    "# Evaluate the forecast for each feature\n",
    "for column in features.columns:\n",
    "    actual = features[column].iloc[train_size:].values  # Actual values\n",
    "    predicted = forecast_original_scale[column].values  # Predicted values\n",
    "    \n",
    "    mae = mean_absolute_error(actual, predicted)\n",
    "    mse = mean_squared_error(actual, predicted)\n",
    "    r2 = r2_score(actual, predicted)\n",
    "    \n",
    "    print(f\"Feature: {column}\")\n",
    "    print(f\"  MAE: {mae:.4f}\")\n",
    "    print(f\"  MSE: {mse:.4f}\")\n",
    "    print(f\"  R²: {r2:.4f}\")\n"
   ]
  },
  {
   "cell_type": "code",
   "execution_count": null,
   "id": "6a77dba7-791a-4a89-b85a-002bd50af66b",
   "metadata": {},
   "outputs": [],
   "source": [
    "import matplotlib.pyplot as plt\n",
    "\n",
    "# Plot actual vs predicted values for key features\n",
    "for column in ['RET', 'PRC']:  # Replace with the features you're most interested in\n",
    "    plt.figure(figsize=(10, 6))\n",
    "    plt.plot(features[column].iloc[train_size:].values, label='Actual', color='blue')\n",
    "    plt.plot(forecast_original_scale[column].values, label='Forecast', color='orange', linestyle='--')\n",
    "    plt.title(f\"{column} - Actual vs Forecast\")\n",
    "    plt.legend()\n",
    "    plt.show()\n"
   ]
  },
  {
   "cell_type": "code",
   "execution_count": null,
   "id": "c8112b62-85e8-47c5-a4fd-806b27e17402",
   "metadata": {},
   "outputs": [],
   "source": []
  },
  {
   "cell_type": "code",
   "execution_count": null,
   "id": "3d07bfe6-9b4c-4e8a-85d1-977ae9908c40",
   "metadata": {},
   "outputs": [],
   "source": []
  },
  {
   "cell_type": "code",
   "execution_count": null,
   "id": "e500ff75-dffe-4959-a4b7-fd9e52f8afe1",
   "metadata": {},
   "outputs": [],
   "source": []
  }
 ],
 "metadata": {
  "kernelspec": {
   "display_name": "Python 3 (ipykernel)",
   "language": "python",
   "name": "python3"
  },
  "language_info": {
   "codemirror_mode": {
    "name": "ipython",
    "version": 3
   },
   "file_extension": ".py",
   "mimetype": "text/x-python",
   "name": "python",
   "nbconvert_exporter": "python",
   "pygments_lexer": "ipython3",
   "version": "3.12.7"
  }
 },
 "nbformat": 4,
 "nbformat_minor": 5
}
