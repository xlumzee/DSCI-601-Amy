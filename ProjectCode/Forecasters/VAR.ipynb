{
 "cells": [
  {
   "cell_type": "code",
   "execution_count": 1,
   "id": "e8f81dca-858b-46e4-82ae-72faae19545f",
   "metadata": {},
   "outputs": [],
   "source": [
    "import pandas as pd\n",
    "import matplotlib.pyplot as plt\n",
    "from statsmodels.tsa.vector_ar.var_model import VAR\n",
    "from statsmodels.tsa.stattools import adfuller"
   ]
  },
  {
   "cell_type": "code",
   "execution_count": 2,
   "id": "c9ae373d-6b88-4317-9180-63002529f91e",
   "metadata": {},
   "outputs": [],
   "source": [
    "df = pd.read_csv('/Users/amulya/Desktop/Capstone/DSCI-601-Amy/Data/AKAM.csv', parse_dates=True)"
   ]
  },
  {
   "cell_type": "code",
   "execution_count": 5,
   "id": "bf5ccdbe-e941-411e-a187-cfc8e2bbfae4",
   "metadata": {},
   "outputs": [
    {
     "name": "stdout",
     "output_type": "stream",
     "text": [
      "<class 'pandas.core.frame.DataFrame'>\n",
      "RangeIndex: 6080 entries, 0 to 6079\n",
      "Data columns (total 16 columns):\n",
      " #   Column       Non-Null Count  Dtype  \n",
      "---  ------       --------------  -----  \n",
      " 0   date         6080 non-null   object \n",
      " 1   TICKER       6080 non-null   object \n",
      " 2   CUSIP        6080 non-null   object \n",
      " 3   COMNAM       6080 non-null   object \n",
      " 4   RET          6080 non-null   float64\n",
      " 5   VOL_CHANGE   6080 non-null   float64\n",
      " 6   BA_SPREAD    6080 non-null   float64\n",
      " 7   ILLIQUIDITY  6080 non-null   float64\n",
      " 8   sprtrn       6080 non-null   float64\n",
      " 9   TURNOVER     6080 non-null   float64\n",
      " 10  PRC          6080 non-null   float64\n",
      " 11  SHROUT       6080 non-null   float64\n",
      " 12  MARKET_CAP   6080 non-null   float64\n",
      " 13  TRAN_COST    6080 non-null   float64\n",
      " 14  ASK          6080 non-null   float64\n",
      " 15  BID          6080 non-null   float64\n",
      "dtypes: float64(12), object(4)\n",
      "memory usage: 760.1+ KB\n"
     ]
    }
   ],
   "source": [
    "df.info()"
   ]
  },
  {
   "cell_type": "code",
   "execution_count": 6,
   "id": "a256ad2a-18cd-49c1-833b-201617279ad4",
   "metadata": {},
   "outputs": [],
   "source": [
    "df['date'] = pd.to_datetime(df['date'])\n",
    "df.set_index('date', inplace=True)"
   ]
  },
  {
   "cell_type": "code",
   "execution_count": 11,
   "id": "373a04aa-938d-4cd4-af47-5fa3e7466e0b",
   "metadata": {},
   "outputs": [],
   "source": [
    "numeric_df = df.select_dtypes(include=['float64', 'int64'])"
   ]
  },
  {
   "cell_type": "markdown",
   "id": "46f77fb6-1a4d-4968-a787-27945e6d9ba5",
   "metadata": {},
   "source": [
    "### ADF Test\n",
    "statistical test used to check whether a given time series is stationary or not. Stationarity is a crucial property in time series analysis, which implies that the statistical properties of a series (e.g., mean, variance, and autocorrelation) do not change over time.\n",
    "\n"
   ]
  },
  {
   "cell_type": "code",
   "execution_count": 12,
   "id": "390454a3-0ea4-49b5-a5f0-ec8d7a850974",
   "metadata": {},
   "outputs": [],
   "source": [
    "def adf_test(series, title=''):\n",
    "    \"\"\"\n",
    "    Perform the Augmented Dickey-Fuller test and print the results.\n",
    "    \"\"\"\n",
    "    result = adfuller(series.dropna(), autolag='AIC')\n",
    "    print(f'Augmented Dickey-Fuller Test: {title}')\n",
    "    labels = ['ADF Test Statistic', 'p-value', '#Lags Used', 'Number of Observations Used']\n",
    "    for value, label in zip(result, labels):\n",
    "        print(f'{label} : {value}')\n",
    "    if result[1] <= 0.05:\n",
    "        print(\"Strong evidence against the null hypothesis (H0), reject the null hypothesis. Data is stationary.\")\n",
    "    else:\n",
    "        print(\"Weak evidence against null hypothesis, time series has a unit root, indicating it is non-stationary.\")\n",
    "    print('-'*50)"
   ]
  },
  {
   "cell_type": "code",
   "execution_count": 13,
   "id": "85a7ee6c-5411-4aed-b167-5e14600cc601",
   "metadata": {
    "scrolled": true
   },
   "outputs": [
    {
     "name": "stdout",
     "output_type": "stream",
     "text": [
      "Augmented Dickey-Fuller Test: RET\n",
      "ADF Test Statistic : -13.290641327184447\n",
      "p-value : 7.374883701861864e-25\n",
      "#Lags Used : 32\n",
      "Number of Observations Used : 6047\n",
      "Strong evidence against the null hypothesis (H0), reject the null hypothesis. Data is stationary.\n",
      "--------------------------------------------------\n",
      "Augmented Dickey-Fuller Test: VOL_CHANGE\n",
      "ADF Test Statistic : -32.60738538545454\n",
      "p-value : 0.0\n",
      "#Lags Used : 7\n",
      "Number of Observations Used : 6072\n",
      "Strong evidence against the null hypothesis (H0), reject the null hypothesis. Data is stationary.\n",
      "--------------------------------------------------\n",
      "Augmented Dickey-Fuller Test: BA_SPREAD\n",
      "ADF Test Statistic : -2.4535925374246714\n",
      "p-value : 0.12717778861237122\n",
      "#Lags Used : 33\n",
      "Number of Observations Used : 6046\n",
      "Weak evidence against null hypothesis, time series has a unit root, indicating it is non-stationary.\n",
      "--------------------------------------------------\n",
      "Augmented Dickey-Fuller Test: ILLIQUIDITY\n",
      "ADF Test Statistic : -12.880041591533244\n",
      "p-value : 4.679832687412765e-24\n",
      "#Lags Used : 34\n",
      "Number of Observations Used : 6045\n",
      "Strong evidence against the null hypothesis (H0), reject the null hypothesis. Data is stationary.\n",
      "--------------------------------------------------\n",
      "Augmented Dickey-Fuller Test: sprtrn\n",
      "ADF Test Statistic : -18.952165503251848\n",
      "p-value : 0.0\n",
      "#Lags Used : 17\n",
      "Number of Observations Used : 6062\n",
      "Strong evidence against the null hypothesis (H0), reject the null hypothesis. Data is stationary.\n",
      "--------------------------------------------------\n",
      "Augmented Dickey-Fuller Test: TURNOVER\n",
      "ADF Test Statistic : -5.998397464395185\n",
      "p-value : 1.680038501134189e-07\n",
      "#Lags Used : 33\n",
      "Number of Observations Used : 6046\n",
      "Strong evidence against the null hypothesis (H0), reject the null hypothesis. Data is stationary.\n",
      "--------------------------------------------------\n",
      "Augmented Dickey-Fuller Test: PRC\n",
      "ADF Test Statistic : -5.601166344969765\n",
      "p-value : 1.263834095755832e-06\n",
      "#Lags Used : 34\n",
      "Number of Observations Used : 6045\n",
      "Strong evidence against the null hypothesis (H0), reject the null hypothesis. Data is stationary.\n",
      "--------------------------------------------------\n",
      "Augmented Dickey-Fuller Test: SHROUT\n",
      "ADF Test Statistic : -3.7311006678470475\n",
      "p-value : 0.00369636441461398\n",
      "#Lags Used : 0\n",
      "Number of Observations Used : 6079\n",
      "Strong evidence against the null hypothesis (H0), reject the null hypothesis. Data is stationary.\n",
      "--------------------------------------------------\n",
      "Augmented Dickey-Fuller Test: MARKET_CAP\n",
      "ADF Test Statistic : -2.6339996282827283\n",
      "p-value : 0.0861718402617444\n",
      "#Lags Used : 34\n",
      "Number of Observations Used : 6045\n",
      "Weak evidence against null hypothesis, time series has a unit root, indicating it is non-stationary.\n",
      "--------------------------------------------------\n",
      "Augmented Dickey-Fuller Test: TRAN_COST\n",
      "ADF Test Statistic : -9.277463867445315\n",
      "p-value : 1.2774994423882993e-15\n",
      "#Lags Used : 34\n",
      "Number of Observations Used : 6045\n",
      "Strong evidence against the null hypothesis (H0), reject the null hypothesis. Data is stationary.\n",
      "--------------------------------------------------\n",
      "Augmented Dickey-Fuller Test: ASK\n",
      "ADF Test Statistic : -5.589160595437326\n",
      "p-value : 1.3413808257571464e-06\n",
      "#Lags Used : 34\n",
      "Number of Observations Used : 6045\n",
      "Strong evidence against the null hypothesis (H0), reject the null hypothesis. Data is stationary.\n",
      "--------------------------------------------------\n",
      "Augmented Dickey-Fuller Test: BID\n",
      "ADF Test Statistic : -5.579522869959157\n",
      "p-value : 1.4069711872345132e-06\n",
      "#Lags Used : 34\n",
      "Number of Observations Used : 6045\n",
      "Strong evidence against the null hypothesis (H0), reject the null hypothesis. Data is stationary.\n",
      "--------------------------------------------------\n"
     ]
    }
   ],
   "source": [
    "for column in numeric_df.columns:\n",
    "    adf_test(numeric_df[column], title=f'{column}')"
   ]
  },
  {
   "cell_type": "markdown",
   "id": "f22f900b-c3f8-41a2-8f61-7e69045f3373",
   "metadata": {},
   "source": [
    "### Modeling"
   ]
  },
  {
   "cell_type": "code",
   "execution_count": 22,
   "id": "08fe0211-e1f3-485e-b89e-aa72bb9a24bb",
   "metadata": {},
   "outputs": [
    {
     "name": "stderr",
     "output_type": "stream",
     "text": [
      "/Users/amulya/Desktop/Capstone/DSCI-601-Amy/.venv/lib/python3.9/site-packages/statsmodels/tsa/base/tsa_model.py:473: ValueWarning: A date index has been provided, but it has no associated frequency information and so will be ignored when e.g. forecasting.\n",
      "  self._init_dates(dates, freq)\n"
     ]
    }
   ],
   "source": [
    "model = VAR(numeric_df)\n",
    "model_fitted = model.fit(maxlags=4)"
   ]
  },
  {
   "cell_type": "code",
   "execution_count": 23,
   "id": "26dd243b-94cc-4d05-b96c-8b22d80b40e1",
   "metadata": {},
   "outputs": [],
   "source": [
    "forecast = model_fitted.forecast(numeric_df.values[-model_fitted.k_ar:], steps=5)\n",
    "forecast_df = pd.DataFrame(forecast, index=pd.date_range(start=numeric_df.index[-1] + pd.Timedelta(days=1), periods=5, freq='D'), columns=numeric_df.columns)\n"
   ]
  },
  {
   "cell_type": "code",
   "execution_count": 18,
   "id": "1b76b3ff-221c-4676-a4c0-29fdfacd1674",
   "metadata": {},
   "outputs": [],
   "source": [
    "# plt.figure(figsize=(12, 8))\n",
    "# for i, column in enumerate(numeric_df.columns, 1):\n",
    "#     plt.subplot(len(numeric_df.columns), 1, i)\n",
    "#     plt.plot(numeric_df.index, numeric_df[column], label='Actual')\n",
    "#     plt.plot(forecast_df.index, forecast_df[column], label='Forecast', linestyle='--')\n",
    "#     plt.title(f'{column} - Actual vs Forecast')\n",
    "#     plt.legend()\n",
    "\n",
    "# plt.tight_layout()\n",
    "# plt.show()"
   ]
  },
  {
   "cell_type": "code",
   "execution_count": 17,
   "id": "0bd32513-5311-41d9-9629-cabaf4c5534f",
   "metadata": {},
   "outputs": [
    {
     "name": "stdout",
     "output_type": "stream",
     "text": [
      "Forecasted Values for the Next 5 Days:\n",
      "                 RET  VOL_CHANGE  BA_SPREAD   ILLIQUIDITY    sprtrn  TURNOVER  \\\n",
      "2023-12-30  0.000788    0.113007   0.000389  7.840124e-10  0.000353  6.034907   \n",
      "2023-12-31 -0.001634    0.113190   0.000534 -8.367075e-10  0.000320  5.534939   \n",
      "2024-01-01 -0.000130    0.108978   0.000376  3.759421e-10  0.000205  6.091597   \n",
      "2024-01-02 -0.001464    0.112685   0.000508 -7.151724e-11  0.000436  5.638202   \n",
      "2024-01-03 -0.001342    0.121841   0.000459 -1.128944e-10  0.000450  5.965359   \n",
      "\n",
      "                   PRC         SHROUT    MARKET_CAP  TRAN_COST         ASK  \\\n",
      "2023-12-30  118.343115  150829.705265  1.784997e+07   0.039239  118.395900   \n",
      "2023-12-31  118.273402  150838.778948  1.784139e+07   0.035265  118.318858   \n",
      "2024-01-01  118.288587  150825.187118  1.784143e+07   0.032724  118.326975   \n",
      "2024-01-02  118.165244  150828.305422  1.782824e+07   0.034937  118.205060   \n",
      "2024-01-03  118.034179  150826.451432  1.781397e+07   0.033648  118.071873   \n",
      "\n",
      "                   BID  \n",
      "2023-12-30  118.317421  \n",
      "2023-12-31  118.248328  \n",
      "2024-01-01  118.261526  \n",
      "2024-01-02  118.135186  \n",
      "2024-01-03  118.004577  \n"
     ]
    }
   ],
   "source": [
    "print(\"Forecasted Values for the Next 5 Days:\")\n",
    "print(forecast_df)"
   ]
  },
  {
   "cell_type": "code",
   "execution_count": 29,
   "id": "d7e1c7a7-d69e-45a1-b8fc-3cb879098092",
   "metadata": {},
   "outputs": [
    {
     "data": {
      "text/plain": [
       "<matplotlib.legend.Legend at 0x31deddc70>"
      ]
     },
     "execution_count": 29,
     "metadata": {},
     "output_type": "execute_result"
    },
    {
     "data": {
      "image/png": "[encoded data removed]",
      "text/plain": [
       "<Figure size 640x480 with 1 Axes>"
      ]
     },
     "metadata": {},
     "output_type": "display_data"
    }
   ],
   "source": [
    "plt.plot(numeric_df.index, numeric_df['PRC'], label='Actual Price (PRC)', color='blue')\n",
    "plt.plot(forecast_df.index, forecast_df['PRC'], label='Forecasted Price', linestyle='--', color='red')\n",
    "plt.axvline(x=numeric_df.index[-1], color='gray', linestyle='--', label='Forecast Start')  # Mark the forecast start point\n",
    "plt.title('PRC - Actual vs Forecast')\n",
    "plt.xlabel('Date')\n",
    "plt.ylabel('Price')\n",
    "plt.legend()"
   ]
  },
  {
   "cell_type": "code",
   "execution_count": 28,
   "id": "7e189001-a05b-4205-bf44-353c81ed9a0e",
   "metadata": {},
   "outputs": [
    {
     "data": {
      "text/plain": [
       "2023-12-30    118.343115\n",
       "2023-12-31    118.273402\n",
       "2024-01-01    118.288587\n",
       "2024-01-02    118.165244\n",
       "2024-01-03    118.034179\n",
       "Freq: D, Name: PRC, dtype: float64"
      ]
     },
     "execution_count": 28,
     "metadata": {},
     "output_type": "execute_result"
    }
   ],
   "source": [
    "forecast_df['PRC']"
   ]
  },
  {
   "cell_type": "code",
   "execution_count": 30,
   "id": "8c8eb615-5b7a-4daf-bb2f-7f47eff61c9a",
   "metadata": {},
   "outputs": [
    {
     "name": "stdout",
     "output_type": "stream",
     "text": [
      "Actual Data Range: 1999-11-01 00:00:00 to 2023-12-29 00:00:00\n",
      "Forecast Data Range: 2023-12-30 00:00:00 to 2024-01-03 00:00:00\n"
     ]
    }
   ],
   "source": [
    "print(f\"Actual Data Range: {numeric_df.index[0]} to {numeric_df.index[-1]}\")\n",
    "print(f\"Forecast Data Range: {forecast_df.index[0]} to {forecast_df.index[-1]}\")\n"
   ]
  },
  {
   "cell_type": "code",
   "execution_count": null,
   "id": "2bde1362-e523-4f50-a9d4-5ae81012d363",
   "metadata": {},
   "outputs": [],
   "source": []
  }
 ],
 "metadata": {
  "kernelspec": {
   "display_name": "Python 3 (ipykernel)",
   "language": "python",
   "name": "python3"
  },
  "language_info": {
   "codemirror_mode": {
    "name": "ipython",
    "version": 3
   },
   "file_extension": ".py",
   "mimetype": "text/x-python",
   "name": "python",
   "nbconvert_exporter": "python",
   "pygments_lexer": "ipython3",
   "version": "3.9.17"
  }
 },
 "nbformat": 4,
 "nbformat_minor": 5
}
